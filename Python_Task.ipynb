{
  "nbformat": 4,
  "nbformat_minor": 0,
  "metadata": {
    "colab": {
      "provenance": []
    },
    "kernelspec": {
      "name": "python3",
      "display_name": "Python 3"
    },
    "language_info": {
      "name": "python"
    }
  },
  "cells": [
    {
      "cell_type": "code",
      "source": [
        "a=3\n",
        "b=5.5\n",
        "#Addition\n",
        "c=a+b\n",
        "print(\"The sum of two number is\",c)"
      ],
      "metadata": {
        "colab": {
          "base_uri": "https://localhost:8080/"
        },
        "id": "dewHrXG-3o3s",
        "outputId": "5f361914-8622-4196-fd05-fccc9729885d"
      },
      "execution_count": 2,
      "outputs": [
        {
          "output_type": "stream",
          "name": "stdout",
          "text": [
            "The sum of two number is 8.5\n"
          ]
        }
      ]
    },
    {
      "cell_type": "code",
      "source": [
        "j= float(input(\"Enter the first number\"))\n",
        "k= float(input(\"Enter the second number\"))\n",
        "l= j*k\n",
        "print(\"The product of two number is \",l)"
      ],
      "metadata": {
        "colab": {
          "base_uri": "https://localhost:8080/"
        },
        "id": "5QtHZFuT4TRM",
        "outputId": "cf65f886-4555-408a-bc5f-b38605d40605"
      },
      "execution_count": 3,
      "outputs": [
        {
          "output_type": "stream",
          "name": "stdout",
          "text": [
            "Enter the first number8989\n",
            "Enter the second number787\n",
            "The product of two number is  7074343.0\n"
          ]
        }
      ]
    },
    {
      "cell_type": "code",
      "execution_count": 1,
      "metadata": {
        "colab": {
          "base_uri": "https://localhost:8080/"
        },
        "id": "sEyq3o1Z3XFe",
        "outputId": "0c190572-5e78-41e9-d99a-827a543e41df"
      },
      "outputs": [
        {
          "output_type": "stream",
          "name": "stdout",
          "text": [
            "Hello world!\n"
          ]
        }
      ],
      "source": [
        "print(\"Hello world!\")"
      ]
    }
  ]
}